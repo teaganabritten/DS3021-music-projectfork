{
  "cells": [
    {
      "cell_type": "markdown",
      "id": "edf30c9f",
      "metadata": {
        "id": "edf30c9f"
      },
      "source": [
        "Logistic Regression to predict if songs contain love"
      ]
    },
    {
      "cell_type": "code",
      "execution_count": 1,
      "id": "f64ac315",
      "metadata": {
        "id": "f64ac315"
      },
      "outputs": [],
      "source": [
        "import numpy as np\n",
        "import matplotlib.pyplot as plt\n",
        "from scipy.stats import norm\n",
        "import pandas as pd\n",
        "import seaborn as sns\n",
        "\n",
        "\n",
        "from sklearn.linear_model import LogisticRegression\n",
        "from sklearn.model_selection import train_test_split"
      ]
    },
    {
      "cell_type": "code",
      "execution_count": 2,
      "id": "303c6fa0",
      "metadata": {
        "id": "303c6fa0"
      },
      "outputs": [],
      "source": [
        "#Read in datasets\n",
        "spotify_data = pd.read_csv(\"../data/spotify_data.csv\")"
      ]
    },
    {
      "cell_type": "code",
      "execution_count": 3,
      "id": "24a8183a",
      "metadata": {
        "id": "24a8183a"
      },
      "outputs": [],
      "source": [
        "#Adding Has Love column\n",
        "song_attribute_data = spotify_data\n",
        "\n",
        "titles = song_attribute_data[\"Song\"]\n",
        "titles = titles.str.split(pat=\" \", expand=True)\n",
        "\n",
        "song_attribute_data[\"Has Word Love?\"] = song_attribute_data['Song'].str.contains(\"Love\")\n",
        "song_attribute_data_love = song_attribute_data[song_attribute_data[\"Has Word Love?\"]]\n",
        "\n",
        "song_attribute_data = song_attribute_data.dropna()\n"
      ]
    },
    {
      "cell_type": "code",
      "execution_count": 4,
      "id": "53896a96",
      "metadata": {
        "id": "53896a96"
      },
      "outputs": [],
      "source": [
        "#Prepare X and y\n",
        "y = song_attribute_data[\"Has Word Love?\"]\n",
        "X = song_attribute_data.loc[:,[\"speechiness\", \"valence\", \"tempo\", \"time_signature\", \"Popularity Points Awarded\"]]\n",
        "\n",
        "def minmax(z):\n",
        "    z = (z-min(z))/(max(z)-min(z))\n",
        "    return z\n",
        "X = X.apply(minmax,axis=1)\n",
        "\n",
        "X_train, X_test, y_train, y_test = train_test_split(X,y, test_size=.2, random_state=100)"
      ]
    },
    {
      "cell_type": "code",
      "execution_count": 5,
      "id": "01e8114f",
      "metadata": {
        "colab": {
          "base_uri": "https://localhost:8080/"
        },
        "id": "01e8114f",
        "outputId": "8a694a67-904a-4b4b-b6e4-3af0d5bfca2a"
      },
      "outputs": [
        {
          "name": "stdout",
          "output_type": "stream",
          "text": [
            "Training R^2 0.9174862912350944\n",
            "Test R^2 0.9136790810998956\n"
          ]
        }
      ],
      "source": [
        "#Run Regression\n",
        "reg = LogisticRegression(penalty = None,\n",
        "                         fit_intercept=True,\n",
        "                         solver = 'newton-cholesky',\n",
        "                         max_iter=1000).fit(X_train,y_train)\n",
        "\n",
        "print(\"Training R^2\" , reg.score(X_train, y_train))\n",
        "print(\"Test R^2\", reg.score(X_test, y_test))\n",
        "#Pretty good accuracy scores for these predictors\n"
      ]
    },
    {
      "cell_type": "code",
      "execution_count": 6,
      "id": "C7-bNZSHcxvx",
      "metadata": {
        "colab": {
          "base_uri": "https://localhost:8080/"
        },
        "id": "C7-bNZSHcxvx",
        "outputId": "ecc361e1-4d41-4e8f-aa4f-c6b36d2625a6"
      },
      "outputs": [
        {
          "name": "stdout",
          "output_type": "stream",
          "text": [
            "Training R^2 0.9174862912350944\n",
            "Test R^2 0.9136790810998956\n"
          ]
        }
      ],
      "source": [
        "#Run regression with all variables\n",
        "X_n = song_attribute_data.iloc[:, [8] + [9] + list(range(11, 24))]\n",
        "X_n = X_n.apply(minmax,axis=1)\n",
        "\n",
        "dummies = pd.DataFrame([])\n",
        "new_dummies = pd.get_dummies(song_attribute_data.loc[:,\"spotify_track_explicit\"], drop_first=True, dtype=int)\n",
        "dummies = pd.concat([dummies, new_dummies], axis=1, ignore_index=True)\n",
        "\n",
        "X2 = pd.concat([X_n,dummies],axis=1)\n",
        "X2.columns = X2.columns.astype(str)\n",
        "\n",
        "X2_train, X2_test, y2_train, y2_test = train_test_split(X2,y, test_size=.2, random_state=100)\n",
        "\n",
        "reg2 = LogisticRegression(penalty = None,\n",
        "                         fit_intercept=True,\n",
        "                         solver = 'newton-cholesky',\n",
        "                         max_iter=1000).fit(X2_train,y2_train)\n",
        "\n",
        "print(\"Training R^2\", reg2.score(X2_train, y2_train))\n",
        "print(\"Test R^2\", reg2.score(X2_test, y2_test))\n",
        "#Exact same R^2 values?"
      ]
    },
    {
      "cell_type": "markdown",
      "id": "e8930214",
      "metadata": {},
      "source": [
        "This code chunk shows that our target variable is highly imbalanced. Almost 92% of the songs do not have the word 'love' in the title, so our model has learned to always return an accuracy close to 1, which explains why the model always gives an accuracy close to .91 no matter what features or how many features we use. \n",
        "\n",
        "Thus, below, we will add a new parameter called class_weight=\"balanced\" to tell our model to care and focus more on the underrepresented population, which in this case is True: the title has the word 'love'."
      ]
    },
    {
      "cell_type": "code",
      "execution_count": 7,
      "id": "d58e8d44",
      "metadata": {},
      "outputs": [
        {
          "name": "stdout",
          "output_type": "stream",
          "text": [
            "Has Word Love?\n",
            "False    0.916725\n",
            "True     0.083275\n",
            "Name: proportion, dtype: float64\n"
          ]
        }
      ],
      "source": [
        "print(song_attribute_data[\"Has Word Love?\"].value_counts(normalize=True))\n"
      ]
    },
    {
      "cell_type": "markdown",
      "id": "c0233911",
      "metadata": {},
      "source": [
        "Let's see how the accuracy scores changed after adding this new parameter, class_weight=\"balanced\", that tells the model to focus more on the underrepresented data."
      ]
    },
    {
      "cell_type": "code",
      "execution_count": 8,
      "id": "d7814d8e",
      "metadata": {},
      "outputs": [
        {
          "name": "stdout",
          "output_type": "stream",
          "text": [
            "Training R^2 0.324310209765863\n",
            "Test R^2 0.33379742429516185\n"
          ]
        }
      ],
      "source": [
        "#Prepare X and y\n",
        "y = song_attribute_data[\"Has Word Love?\"]\n",
        "X = song_attribute_data.loc[:,[\"speechiness\", \"valence\", \"tempo\", \"time_signature\", \"Popularity Points Awarded\"]]\n",
        "\n",
        "X = X.apply(minmax,axis=1)\n",
        "\n",
        "X_train, X_test, y_train, y_test = train_test_split(X,y, test_size=.2, random_state=100)\n",
        "\n",
        "#Run Regression\n",
        "reg = LogisticRegression(penalty = None,\n",
        "                         fit_intercept=True,\n",
        "                         solver = 'newton-cholesky',\n",
        "                         max_iter=1000,\n",
        "                         class_weight='balanced').fit(X_train,y_train)\n",
        "\n",
        "print(\"Training R^2\" , reg.score(X_train, y_train))\n",
        "print(\"Test R^2\", reg.score(X_test, y_test))\n",
        "# We can see that the accuracy decreased"
      ]
    },
    {
      "cell_type": "markdown",
      "id": "34592176",
      "metadata": {},
      "source": [
        "Without adjusting:\n",
        "\n",
        "- Training R^2 0.9174862912350944\n",
        "- Test R^2 0.9136790810998956\n",
        "\n",
        "After adjusting:\n",
        "\n",
        "- Training R^2 0.324310209765863\n",
        "- Test R^2 0.33379742429516185\n",
        "\n",
        "We can see that the accuracy decreased"
      ]
    },
    {
      "cell_type": "code",
      "execution_count": 9,
      "id": "0b561352",
      "metadata": {},
      "outputs": [
        {
          "name": "stdout",
          "output_type": "stream",
          "text": [
            "Training R^2 0.5130124466881365\n",
            "Test R^2 0.5144448311869126\n"
          ]
        },
        {
          "data": {
            "text/html": [
              "<div>\n",
              "<style scoped>\n",
              "    .dataframe tbody tr th:only-of-type {\n",
              "        vertical-align: middle;\n",
              "    }\n",
              "\n",
              "    .dataframe tbody tr th {\n",
              "        vertical-align: top;\n",
              "    }\n",
              "\n",
              "    .dataframe thead th {\n",
              "        text-align: right;\n",
              "    }\n",
              "</style>\n",
              "<table border=\"1\" class=\"dataframe\">\n",
              "  <thead>\n",
              "    <tr style=\"text-align: right;\">\n",
              "      <th></th>\n",
              "      <th>0</th>\n",
              "    </tr>\n",
              "  </thead>\n",
              "  <tbody>\n",
              "    <tr>\n",
              "      <th>1.979786</th>\n",
              "      <td>spotify_track_duration_ms</td>\n",
              "    </tr>\n",
              "    <tr>\n",
              "      <th>300880.974906</th>\n",
              "      <td>spotify_track_explicit</td>\n",
              "    </tr>\n",
              "    <tr>\n",
              "      <th>-99041.854804</th>\n",
              "      <td>danceability</td>\n",
              "    </tr>\n",
              "    <tr>\n",
              "      <th>-34060.232917</th>\n",
              "      <td>energy</td>\n",
              "    </tr>\n",
              "    <tr>\n",
              "      <th>-512.231218</th>\n",
              "      <td>key</td>\n",
              "    </tr>\n",
              "    <tr>\n",
              "      <th>-379624.544851</th>\n",
              "      <td>loudness</td>\n",
              "    </tr>\n",
              "    <tr>\n",
              "      <th>-8324.074773</th>\n",
              "      <td>mode</td>\n",
              "    </tr>\n",
              "    <tr>\n",
              "      <th>-261643.989204</th>\n",
              "      <td>speechiness</td>\n",
              "    </tr>\n",
              "    <tr>\n",
              "      <th>80341.412353</th>\n",
              "      <td>acousticness</td>\n",
              "    </tr>\n",
              "    <tr>\n",
              "      <th>-48870.250866</th>\n",
              "      <td>instrumentalness</td>\n",
              "    </tr>\n",
              "    <tr>\n",
              "      <th>65011.001294</th>\n",
              "      <td>liveness</td>\n",
              "    </tr>\n",
              "    <tr>\n",
              "      <th>24336.816998</th>\n",
              "      <td>valence</td>\n",
              "    </tr>\n",
              "    <tr>\n",
              "      <th>-279.438094</th>\n",
              "      <td>tempo</td>\n",
              "    </tr>\n",
              "    <tr>\n",
              "      <th>-12301.736472</th>\n",
              "      <td>time_signature</td>\n",
              "    </tr>\n",
              "    <tr>\n",
              "      <th>-1458.353378</th>\n",
              "      <td>spotify_track_popularity</td>\n",
              "    </tr>\n",
              "    <tr>\n",
              "      <th>-2.563344</th>\n",
              "      <td>0</td>\n",
              "    </tr>\n",
              "  </tbody>\n",
              "</table>\n",
              "</div>"
            ],
            "text/plain": [
              "                                        0\n",
              " 1.979786       spotify_track_duration_ms\n",
              " 300880.974906     spotify_track_explicit\n",
              "-99041.854804                danceability\n",
              "-34060.232917                      energy\n",
              "-512.231218                           key\n",
              "-379624.544851                   loudness\n",
              "-8324.074773                         mode\n",
              "-261643.989204                speechiness\n",
              " 80341.412353                acousticness\n",
              "-48870.250866            instrumentalness\n",
              " 65011.001294                    liveness\n",
              " 24336.816998                     valence\n",
              "-279.438094                         tempo\n",
              "-12301.736472              time_signature\n",
              "-1458.353378     spotify_track_popularity\n",
              "-2.563344                               0"
            ]
          },
          "execution_count": 9,
          "metadata": {},
          "output_type": "execute_result"
        }
      ],
      "source": [
        "#Run regression with all variables\n",
        "X_n = song_attribute_data.iloc[:, [8] + [9] + list(range(11, 24))]\n",
        "X_n = X_n.apply(minmax,axis=1)\n",
        "\n",
        "dummies = pd.DataFrame([])\n",
        "new_dummies = pd.get_dummies(song_attribute_data.loc[:,\"spotify_track_explicit\"], drop_first=True, dtype=int)\n",
        "dummies = pd.concat([dummies, new_dummies], axis=1, ignore_index=True)\n",
        "\n",
        "X2 = pd.concat([X_n,dummies],axis=1)\n",
        "X2.columns = X2.columns.astype(str)\n",
        "\n",
        "X2_train, X2_test, y2_train, y2_test = train_test_split(X2,y, test_size=.2, random_state=100)\n",
        "\n",
        "reg2 = LogisticRegression(penalty = None,\n",
        "                         fit_intercept=True,\n",
        "                         solver = 'newton-cholesky',\n",
        "                         max_iter=1000, \n",
        "                         class_weight='balanced'\n",
        "                         ).fit(X2_train,y2_train)\n",
        "\n",
        "print(\"Training R^2\", reg2.score(X2_train, y2_train))\n",
        "print(\"Test R^2\", reg2.score(X2_test, y2_test))\n",
        "pd.DataFrame(reg2.feature_names_in_, reg2.coef_[0])"
      ]
    },
    {
      "cell_type": "markdown",
      "id": "df964836",
      "metadata": {},
      "source": [
        "We can see that the accuracy scores are worse, but by using all the variables, the features explained more of the variance compared to cherry picking which variables to use."
      ]
    },
    {
      "cell_type": "markdown",
      "id": "7188cc8b",
      "metadata": {},
      "source": [
        "Let's try some more feature combinations using class_weight = 'balanced'"
      ]
    },
    {
      "cell_type": "code",
      "execution_count": 10,
      "id": "6e55093c",
      "metadata": {},
      "outputs": [
        {
          "name": "stdout",
          "output_type": "stream",
          "text": [
            "Training R^2 0.4069109583079467\n",
            "Test R^2 0.40932822833275323\n"
          ]
        }
      ],
      "source": [
        "# Do more popular songs have the word 'love'?\n",
        "#Prepare X and y\n",
        "y = song_attribute_data[\"Has Word Love?\"]\n",
        "X = song_attribute_data.loc[:,[\"Popularity Points Awarded\"]]\n",
        "\n",
        "def minmax(z):\n",
        "    z = (z-min(z))/(max(z)-min(z))\n",
        "    return z\n",
        "X = X.apply(minmax,axis=0)\n",
        "X_train, X_test, y_train, y_test = train_test_split(X, y, test_size=.2, random_state=100)\n",
        "\n",
        "#Run Regression\n",
        "reg = LogisticRegression(penalty = None,\n",
        "                         fit_intercept=True,\n",
        "                         solver = 'newton-cholesky',\n",
        "                         max_iter=1000, \n",
        "                         class_weight='balanced'\n",
        "                         ).fit(X_train,y_train)\n",
        "\n",
        "print(\"Training R^2\" , reg.score(X_train, y_train))\n",
        "print(\"Test R^2\", reg.score(X_test, y_test))"
      ]
    },
    {
      "cell_type": "code",
      "execution_count": 11,
      "id": "6e9ed448",
      "metadata": {},
      "outputs": [
        {
          "name": "stdout",
          "output_type": "stream",
          "text": [
            "Training R^2 0.6430498737923231\n",
            "Test R^2 0.6359206404455273\n"
          ]
        }
      ],
      "source": [
        "#Prepare X and y\n",
        "y = song_attribute_data[\"Has Word Love?\"]\n",
        "X = song_attribute_data.loc[:,[\"liveness\"]]\n",
        "\n",
        "X = X.apply(minmax,axis=0)\n",
        "\n",
        "X_train, X_test, y_train, y_test = train_test_split(X,y, test_size=.2, random_state=100)\n",
        "\n",
        "#Run Regression\n",
        "reg = LogisticRegression(penalty = None,\n",
        "                         fit_intercept=True,\n",
        "                         solver = 'newton-cholesky',\n",
        "                         max_iter=1000,\n",
        "                         class_weight='balanced').fit(X_train,y_train)\n",
        "\n",
        "print(\"Training R^2\" , reg.score(X_train, y_train))\n",
        "print(\"Test R^2\", reg.score(X_test, y_test))\n",
        "# This is the highest accuracy so far"
      ]
    },
    {
      "cell_type": "code",
      "execution_count": 12,
      "id": "2083176b",
      "metadata": {},
      "outputs": [
        {
          "name": "stdout",
          "output_type": "stream",
          "text": [
            "Training R^2 0.6167638610845156\n",
            "Test R^2 0.608771319178559\n"
          ]
        }
      ],
      "source": [
        "# Trying a mix\n",
        "# Prepare X and y\n",
        "y = song_attribute_data[\"Has Word Love?\"]\n",
        "X = song_attribute_data.loc[:,[\"valence\", \"acousticness\", \"liveness\", \"instrumentalness\"]]\n",
        "\n",
        "X = X.apply(minmax,axis=0)\n",
        "\n",
        "X_train, X_test, y_train, y_test = train_test_split(X,y, test_size=.2, random_state=100)\n",
        "\n",
        "#Run Regression\n",
        "reg = LogisticRegression(penalty = None,\n",
        "                         fit_intercept=True,\n",
        "                         solver = 'newton-cholesky',\n",
        "                         max_iter=1000,\n",
        "                         class_weight='balanced').fit(X_train,y_train)\n",
        "\n",
        "print(\"Training R^2\" , reg.score(X_train, y_train))\n",
        "print(\"Test R^2\", reg.score(X_test, y_test))"
      ]
    },
    {
      "cell_type": "code",
      "execution_count": 13,
      "id": "73c80e78",
      "metadata": {},
      "outputs": [
        {
          "data": {
            "text/html": [
              "<div>\n",
              "<style scoped>\n",
              "    .dataframe tbody tr th:only-of-type {\n",
              "        vertical-align: middle;\n",
              "    }\n",
              "\n",
              "    .dataframe tbody tr th {\n",
              "        vertical-align: top;\n",
              "    }\n",
              "\n",
              "    .dataframe thead th {\n",
              "        text-align: right;\n",
              "    }\n",
              "</style>\n",
              "<table border=\"1\" class=\"dataframe\">\n",
              "  <thead>\n",
              "    <tr style=\"text-align: right;\">\n",
              "      <th></th>\n",
              "      <th>Unnamed: 0</th>\n",
              "      <th>index</th>\n",
              "      <th>SongID</th>\n",
              "      <th>Performer</th>\n",
              "      <th>Song</th>\n",
              "      <th>spotify_genre</th>\n",
              "      <th>spotify_track_id</th>\n",
              "      <th>spotify_track_preview_url</th>\n",
              "      <th>spotify_track_duration_ms</th>\n",
              "      <th>spotify_track_explicit</th>\n",
              "      <th>...</th>\n",
              "      <th>speechiness</th>\n",
              "      <th>acousticness</th>\n",
              "      <th>instrumentalness</th>\n",
              "      <th>liveness</th>\n",
              "      <th>valence</th>\n",
              "      <th>tempo</th>\n",
              "      <th>time_signature</th>\n",
              "      <th>spotify_track_popularity</th>\n",
              "      <th>Popularity Points Awarded</th>\n",
              "      <th>Has Word Love?</th>\n",
              "    </tr>\n",
              "  </thead>\n",
              "  <tbody>\n",
              "    <tr>\n",
              "      <th>2</th>\n",
              "      <td>2</td>\n",
              "      <td>2</td>\n",
              "      <td>......And Roses And RosesAndy Williams</td>\n",
              "      <td>Andy Williams</td>\n",
              "      <td>......And Roses And Roses</td>\n",
              "      <td>['adult standards', 'brill building pop', 'eas...</td>\n",
              "      <td>3tvqPPpXyIgKrm4PR9HCf0</td>\n",
              "      <td>https://p.scdn.co/mp3-preview/cef4883cfd1e0e53...</td>\n",
              "      <td>166106.0</td>\n",
              "      <td>False</td>\n",
              "      <td>...</td>\n",
              "      <td>0.0315</td>\n",
              "      <td>0.9110</td>\n",
              "      <td>0.000267</td>\n",
              "      <td>0.1120</td>\n",
              "      <td>0.150</td>\n",
              "      <td>83.969</td>\n",
              "      <td>4.0</td>\n",
              "      <td>38.0</td>\n",
              "      <td>362.0</td>\n",
              "      <td>False</td>\n",
              "    </tr>\n",
              "    <tr>\n",
              "      <th>4</th>\n",
              "      <td>4</td>\n",
              "      <td>4</td>\n",
              "      <td>...Baby One More TimeBritney Spears</td>\n",
              "      <td>Britney Spears</td>\n",
              "      <td>...Baby One More Time</td>\n",
              "      <td>['dance pop', 'pop', 'post-teen pop']</td>\n",
              "      <td>3MjUtNVVq3C8Fn0MP3zhXa</td>\n",
              "      <td>https://p.scdn.co/mp3-preview/da2134a161f1cb34...</td>\n",
              "      <td>211066.0</td>\n",
              "      <td>False</td>\n",
              "      <td>...</td>\n",
              "      <td>0.0307</td>\n",
              "      <td>0.2020</td>\n",
              "      <td>0.000131</td>\n",
              "      <td>0.4430</td>\n",
              "      <td>0.907</td>\n",
              "      <td>92.960</td>\n",
              "      <td>4.0</td>\n",
              "      <td>77.0</td>\n",
              "      <td>2727.0</td>\n",
              "      <td>False</td>\n",
              "    </tr>\n",
              "    <tr>\n",
              "      <th>7</th>\n",
              "      <td>7</td>\n",
              "      <td>7</td>\n",
              "      <td>'65 Love AffairPaul Davis</td>\n",
              "      <td>Paul Davis</td>\n",
              "      <td>'65 Love Affair</td>\n",
              "      <td>['album rock', 'bubblegum pop', 'country rock'...</td>\n",
              "      <td>5nBp8F6tekSrnFg8G2Pvug</td>\n",
              "      <td>https://p.scdn.co/mp3-preview/a701445830ecacfb...</td>\n",
              "      <td>219813.0</td>\n",
              "      <td>False</td>\n",
              "      <td>...</td>\n",
              "      <td>0.0274</td>\n",
              "      <td>0.4320</td>\n",
              "      <td>0.000006</td>\n",
              "      <td>0.1330</td>\n",
              "      <td>0.952</td>\n",
              "      <td>155.697</td>\n",
              "      <td>4.0</td>\n",
              "      <td>40.0</td>\n",
              "      <td>1300.0</td>\n",
              "      <td>True</td>\n",
              "    </tr>\n",
              "    <tr>\n",
              "      <th>10</th>\n",
              "      <td>10</td>\n",
              "      <td>10</td>\n",
              "      <td>'til I Can Make It On My OwnTammy Wynette</td>\n",
              "      <td>Tammy Wynette</td>\n",
              "      <td>'til I Can Make It On My Own</td>\n",
              "      <td>['country', 'country dawn', 'nashville sound']</td>\n",
              "      <td>0aJHZYjwbfTmeyUWF7zGxI</td>\n",
              "      <td>https://p.scdn.co/mp3-preview/73a24c43d2b48dc5...</td>\n",
              "      <td>182080.0</td>\n",
              "      <td>False</td>\n",
              "      <td>...</td>\n",
              "      <td>0.0318</td>\n",
              "      <td>0.8320</td>\n",
              "      <td>0.000035</td>\n",
              "      <td>0.1080</td>\n",
              "      <td>0.146</td>\n",
              "      <td>141.148</td>\n",
              "      <td>4.0</td>\n",
              "      <td>31.0</td>\n",
              "      <td>43.0</td>\n",
              "      <td>False</td>\n",
              "    </tr>\n",
              "    <tr>\n",
              "      <th>12</th>\n",
              "      <td>12</td>\n",
              "      <td>12</td>\n",
              "      <td>'Til My Baby Comes HomeLuther Vandross</td>\n",
              "      <td>Luther Vandross</td>\n",
              "      <td>'Til My Baby Comes Home</td>\n",
              "      <td>['funk', 'motown', 'neo soul', 'new jack swing...</td>\n",
              "      <td>2R97RZWUx4vAFbMMtmb5Ss</td>\n",
              "      <td>https://p.scdn.co/mp3-preview/c54184ec2fc7e8bd...</td>\n",
              "      <td>332226.0</td>\n",
              "      <td>False</td>\n",
              "      <td>...</td>\n",
              "      <td>0.1830</td>\n",
              "      <td>0.0567</td>\n",
              "      <td>0.000006</td>\n",
              "      <td>0.0253</td>\n",
              "      <td>0.802</td>\n",
              "      <td>139.663</td>\n",
              "      <td>4.0</td>\n",
              "      <td>29.0</td>\n",
              "      <td>721.0</td>\n",
              "      <td>False</td>\n",
              "    </tr>\n",
              "  </tbody>\n",
              "</table>\n",
              "<p>5 rows × 26 columns</p>\n",
              "</div>"
            ],
            "text/plain": [
              "    Unnamed: 0  index                                     SongID  \\\n",
              "2            2      2     ......And Roses And RosesAndy Williams   \n",
              "4            4      4        ...Baby One More TimeBritney Spears   \n",
              "7            7      7                  '65 Love AffairPaul Davis   \n",
              "10          10     10  'til I Can Make It On My OwnTammy Wynette   \n",
              "12          12     12     'Til My Baby Comes HomeLuther Vandross   \n",
              "\n",
              "          Performer                          Song  \\\n",
              "2     Andy Williams     ......And Roses And Roses   \n",
              "4    Britney Spears         ...Baby One More Time   \n",
              "7        Paul Davis               '65 Love Affair   \n",
              "10    Tammy Wynette  'til I Can Make It On My Own   \n",
              "12  Luther Vandross       'Til My Baby Comes Home   \n",
              "\n",
              "                                        spotify_genre        spotify_track_id  \\\n",
              "2   ['adult standards', 'brill building pop', 'eas...  3tvqPPpXyIgKrm4PR9HCf0   \n",
              "4               ['dance pop', 'pop', 'post-teen pop']  3MjUtNVVq3C8Fn0MP3zhXa   \n",
              "7   ['album rock', 'bubblegum pop', 'country rock'...  5nBp8F6tekSrnFg8G2Pvug   \n",
              "10     ['country', 'country dawn', 'nashville sound']  0aJHZYjwbfTmeyUWF7zGxI   \n",
              "12  ['funk', 'motown', 'neo soul', 'new jack swing...  2R97RZWUx4vAFbMMtmb5Ss   \n",
              "\n",
              "                            spotify_track_preview_url  \\\n",
              "2   https://p.scdn.co/mp3-preview/cef4883cfd1e0e53...   \n",
              "4   https://p.scdn.co/mp3-preview/da2134a161f1cb34...   \n",
              "7   https://p.scdn.co/mp3-preview/a701445830ecacfb...   \n",
              "10  https://p.scdn.co/mp3-preview/73a24c43d2b48dc5...   \n",
              "12  https://p.scdn.co/mp3-preview/c54184ec2fc7e8bd...   \n",
              "\n",
              "    spotify_track_duration_ms spotify_track_explicit  ... speechiness  \\\n",
              "2                    166106.0                  False  ...      0.0315   \n",
              "4                    211066.0                  False  ...      0.0307   \n",
              "7                    219813.0                  False  ...      0.0274   \n",
              "10                   182080.0                  False  ...      0.0318   \n",
              "12                   332226.0                  False  ...      0.1830   \n",
              "\n",
              "    acousticness  instrumentalness  liveness  valence    tempo  \\\n",
              "2         0.9110          0.000267    0.1120    0.150   83.969   \n",
              "4         0.2020          0.000131    0.4430    0.907   92.960   \n",
              "7         0.4320          0.000006    0.1330    0.952  155.697   \n",
              "10        0.8320          0.000035    0.1080    0.146  141.148   \n",
              "12        0.0567          0.000006    0.0253    0.802  139.663   \n",
              "\n",
              "    time_signature  spotify_track_popularity  Popularity Points Awarded  \\\n",
              "2              4.0                      38.0                      362.0   \n",
              "4              4.0                      77.0                     2727.0   \n",
              "7              4.0                      40.0                     1300.0   \n",
              "10             4.0                      31.0                       43.0   \n",
              "12             4.0                      29.0                      721.0   \n",
              "\n",
              "    Has Word Love?  \n",
              "2            False  \n",
              "4            False  \n",
              "7             True  \n",
              "10           False  \n",
              "12           False  \n",
              "\n",
              "[5 rows x 26 columns]"
            ]
          },
          "execution_count": 13,
          "metadata": {},
          "output_type": "execute_result"
        }
      ],
      "source": [
        "song_attribute_data.head()"
      ]
    },
    {
      "cell_type": "code",
      "execution_count": 14,
      "id": "f909cc9f",
      "metadata": {},
      "outputs": [
        {
          "name": "stdout",
          "output_type": "stream",
          "text": [
            "Training R^2 0.5314648794499086\n",
            "Test R^2 0.514792899408284\n"
          ]
        }
      ],
      "source": [
        "#Prepare X and y\n",
        "y = song_attribute_data[\"Has Word Love?\"]\n",
        "X = song_attribute_data.loc[:,[\"valence\"]]\n",
        "\n",
        "X = X.apply(minmax,axis=0)\n",
        "\n",
        "X_train, X_test, y_train, y_test = train_test_split(X,y, test_size=.2, random_state=100)\n",
        "\n",
        "#Run Regression\n",
        "reg = LogisticRegression(penalty = None,\n",
        "                         fit_intercept=True,\n",
        "                         solver = 'newton-cholesky',\n",
        "                         max_iter=1000,\n",
        "                         class_weight='balanced').fit(X_train,y_train)\n",
        "\n",
        "print(\"Training R^2\" , reg.score(X_train, y_train))\n",
        "print(\"Test R^2\", reg.score(X_test, y_test))\n",
        "# We can see that the accuracy decreased"
      ]
    },
    {
      "cell_type": "code",
      "execution_count": 15,
      "id": "28ce84a4",
      "metadata": {},
      "outputs": [],
      "source": [
        "# make a table with single features"
      ]
    },
    {
      "cell_type": "code",
      "execution_count": 16,
      "id": "aa489cbd",
      "metadata": {},
      "outputs": [
        {
          "data": {
            "text/html": [
              "<div>\n",
              "<style scoped>\n",
              "    .dataframe tbody tr th:only-of-type {\n",
              "        vertical-align: middle;\n",
              "    }\n",
              "\n",
              "    .dataframe tbody tr th {\n",
              "        vertical-align: top;\n",
              "    }\n",
              "\n",
              "    .dataframe thead th {\n",
              "        text-align: right;\n",
              "    }\n",
              "</style>\n",
              "<table border=\"1\" class=\"dataframe\">\n",
              "  <thead>\n",
              "    <tr style=\"text-align: right;\">\n",
              "      <th></th>\n",
              "      <th>Feature</th>\n",
              "      <th>Train R^2</th>\n",
              "      <th>Test R^2</th>\n",
              "    </tr>\n",
              "  </thead>\n",
              "  <tbody>\n",
              "    <tr>\n",
              "      <th>0</th>\n",
              "      <td>speechiness</td>\n",
              "      <td>0.342763</td>\n",
              "      <td>0.362687</td>\n",
              "    </tr>\n",
              "    <tr>\n",
              "      <th>1</th>\n",
              "      <td>acousticness</td>\n",
              "      <td>0.616764</td>\n",
              "      <td>0.602506</td>\n",
              "    </tr>\n",
              "    <tr>\n",
              "      <th>2</th>\n",
              "      <td>instrumentalness</td>\n",
              "      <td>0.162155</td>\n",
              "      <td>0.169509</td>\n",
              "    </tr>\n",
              "    <tr>\n",
              "      <th>3</th>\n",
              "      <td>liveness</td>\n",
              "      <td>0.643050</td>\n",
              "      <td>0.635921</td>\n",
              "    </tr>\n",
              "    <tr>\n",
              "      <th>4</th>\n",
              "      <td>valence</td>\n",
              "      <td>0.531465</td>\n",
              "      <td>0.514793</td>\n",
              "    </tr>\n",
              "    <tr>\n",
              "      <th>5</th>\n",
              "      <td>tempo</td>\n",
              "      <td>0.507094</td>\n",
              "      <td>0.515141</td>\n",
              "    </tr>\n",
              "    <tr>\n",
              "      <th>6</th>\n",
              "      <td>spotify_track_popularity</td>\n",
              "      <td>0.553921</td>\n",
              "      <td>0.579186</td>\n",
              "    </tr>\n",
              "    <tr>\n",
              "      <th>7</th>\n",
              "      <td>Popularity Points Awarded</td>\n",
              "      <td>0.406911</td>\n",
              "      <td>0.409328</td>\n",
              "    </tr>\n",
              "  </tbody>\n",
              "</table>\n",
              "</div>"
            ],
            "text/plain": [
              "                     Feature  Train R^2  Test R^2\n",
              "0                speechiness   0.342763  0.362687\n",
              "1               acousticness   0.616764  0.602506\n",
              "2           instrumentalness   0.162155  0.169509\n",
              "3                   liveness   0.643050  0.635921\n",
              "4                    valence   0.531465  0.514793\n",
              "5                      tempo   0.507094  0.515141\n",
              "6   spotify_track_popularity   0.553921  0.579186\n",
              "7  Popularity Points Awarded   0.406911  0.409328"
            ]
          },
          "execution_count": 16,
          "metadata": {},
          "output_type": "execute_result"
        }
      ],
      "source": [
        "list_features = ['speechiness', 'acousticness', 'instrumentalness',\t'liveness',\t'valence', 'tempo',\t'spotify_track_popularity', 'Popularity Points Awarded']\n",
        "features = []\n",
        "trainr2 = []\n",
        "testr2 = []\n",
        "\n",
        "for feature in list_features:\n",
        "    y = song_attribute_data[\"Has Word Love?\"]\n",
        "    X = song_attribute_data.loc[:,[feature]]\n",
        "\n",
        "    X = X.apply(minmax,axis=0)\n",
        "\n",
        "    X_train, X_test, y_train, y_test = train_test_split(X, y, test_size=.2, random_state=100)\n",
        "\n",
        "    # Run Regression\n",
        "    reg = LogisticRegression(penalty = None,\n",
        "                         fit_intercept=True,\n",
        "                         solver = 'newton-cholesky',\n",
        "                         max_iter=1000,\n",
        "                         class_weight='balanced').fit(X_train,y_train)\n",
        "    features.append(feature)\n",
        "    trainr2.append(reg.score(X_train, y_train))\n",
        "    testr2.append(reg.score(X_test, y_test))\n",
        "\n",
        "    #print(feature)\n",
        "    #print(\"Training R^2\" , reg.score(X_train, y_train))\n",
        "    #print(\"Test R^2\", reg.score(X_test, y_test))\n",
        "    \n",
        "combined_lists = list(zip(features, trainr2, testr2))\n",
        "\n",
        "# Place your combined_lists into a pandas data frame, add column headers using the\n",
        "df_combined_lists = pd.DataFrame(combined_lists, columns=['Feature', 'Train R^2', 'Test R^2'])\n",
        "\n",
        "# Print your data frame out for us to view\n",
        "df_combined_lists"
      ]
    },
    {
      "cell_type": "code",
      "execution_count": 19,
      "id": "0deb258a",
      "metadata": {},
      "outputs": [
        {
          "data": {
            "text/plain": [
              "<matplotlib.legend.Legend at 0x305b6e610>"
            ]
          },
          "execution_count": 19,
          "metadata": {},
          "output_type": "execute_result"
        },
        {
          "data": {
            "image/png": "[encoded data removed]",
            "text/plain": [
              "<Figure size 640x480 with 1 Axes>"
            ]
          },
          "metadata": {},
          "output_type": "display_data"
        }
      ],
      "source": [
        "x = np.arange(len(df_combined_lists['Feature']))\n",
        "plt.bar(x, df_combined_lists['Test R^2'], label='Test R²')\n",
        "plt.xticks(x, df_combined_lists['Feature'], rotation=45, ha='right')\n",
        "plt.legend()"
      ]
    }
  ],
  "metadata": {
    "colab": {
      "provenance": []
    },
    "kernelspec": {
      "display_name": "Python 3",
      "name": "python3"
    },
    "language_info": {
      "codemirror_mode": {
        "name": "ipython",
        "version": 3
      },
      "file_extension": ".py",
      "mimetype": "text/x-python",
      "name": "python",
      "nbconvert_exporter": "python",
      "pygments_lexer": "ipython3",
      "version": "3.11.9"
    }
  },
  "nbformat": 4,
  "nbformat_minor": 5
}
